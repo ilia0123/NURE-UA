{
  "nbformat": 4,
  "nbformat_minor": 0,
  "metadata": {
    "colab": {
      "provenance": [],
      "authorship_tag": "ABX9TyMpGsnqAQ0Ffw8X6GoVM9Z1"
    },
    "kernelspec": {
      "name": "python3",
      "display_name": "Python 3"
    },
    "language_info": {
      "name": "python"
    }
  },
  "cells": [
    {
      "cell_type": "code",
      "execution_count": 6,
      "metadata": {
        "colab": {
          "base_uri": "https://localhost:8080/"
        },
        "id": "YdmwF0S3FKxn",
        "outputId": "677f787b-a716-4844-8c73-08cd131c72b7"
      },
      "outputs": [
        {
          "output_type": "stream",
          "name": "stdout",
          "text": [
            "=== Аутентифікація ===\n",
            "Успішний вхід: john_doe\n",
            "Останній вхід: 2025-05-11 13:30:43.795060\n",
            "\n",
            "=== Адмінські дозволи ===\n",
            "Дозволи admin: ['manage_users', 'view_logs', 'edit_settings']\n"
          ]
        }
      ],
      "source": [
        "import hashlib\n",
        "from datetime import datetime\n",
        "\n",
        "# Базовий клас користувача\n",
        "class User:\n",
        "    def __init__(self, username, password, is_active=True):\n",
        "        self.username = username\n",
        "        self.password_hash = self._hash_password(password)\n",
        "        self.is_active = is_active\n",
        "\n",
        "    def _hash_password(self, password):\n",
        "        return hashlib.sha256(password.encode()).hexdigest()\n",
        "\n",
        "    def verify_password(self, password):\n",
        "        return self._hash_password(password) == self.password_hash\n",
        "\n",
        "# Адміністратор\n",
        "class Administrator(User):\n",
        "    def __init__(self, username, password, permissions=None):\n",
        "        super().__init__(username, password)\n",
        "        self.permissions = permissions if permissions else []\n",
        "\n",
        "    def add_permission(self, perm):\n",
        "        self.permissions.append(perm)\n",
        "\n",
        "# Звичайний користувач\n",
        "class RegularUser(User):\n",
        "    def __init__(self, username, password, last_login=None):\n",
        "        super().__init__(username, password)\n",
        "        self.last_login = last_login or datetime.now()\n",
        "\n",
        "    def update_login_time(self):\n",
        "        self.last_login = datetime.now()\n",
        "\n",
        "# Гість\n",
        "class GuestUser(User):\n",
        "    def __init__(self, username=\"guest\", password=\"guest\"):\n",
        "        super().__init__(username, password)\n",
        "        self.is_active = False  # зазвичай гість обмежений\n",
        "\n",
        "# Контроль доступу\n",
        "class AccessControl:\n",
        "    def __init__(self):\n",
        "        self.users = {}\n",
        "\n",
        "    def add_user(self, user):\n",
        "        self.users[user.username] = user\n",
        "\n",
        "    def authenticate_user(self, username, password):\n",
        "        user = self.users.get(username)\n",
        "        if user and user.verify_password(password):\n",
        "            return user\n",
        "        return None\n",
        "\n",
        "# --- Демонстрація ---\n",
        "\n",
        "# Створюємо об'єкти користувачів\n",
        "admin = Administrator(\"admin\", \"admin123\", permissions=[\"manage_users\", \"view_logs\"])\n",
        "regular = RegularUser(\"john_doe\", \"password123\")\n",
        "guest = GuestUser()\n",
        "\n",
        "# Контроль доступу\n",
        "access_control = AccessControl()\n",
        "access_control.add_user(admin)\n",
        "access_control.add_user(regular)\n",
        "access_control.add_user(guest)\n",
        "\n",
        "# Тест аутентифікації\n",
        "print(\"=== Аутентифікація ===\")\n",
        "user = access_control.authenticate_user(\"john_doe\", \"password123\")\n",
        "if user:\n",
        "    print(f\"Успішний вхід: {user.username}\")\n",
        "    if isinstance(user, RegularUser):\n",
        "        user.update_login_time()\n",
        "        print(f\"Останній вхід: {user.last_login}\")\n",
        "else:\n",
        "    print(\"Невірний логін або пароль\")\n",
        "\n",
        "# Тест адміністраторських прав\n",
        "print(\"\\n=== Адмінські дозволи ===\")\n",
        "admin.add_permission(\"edit_settings\")\n",
        "print(f\"Дозволи {admin.username}: {admin.permissions}\")\n"
      ]
    }
  ]
}